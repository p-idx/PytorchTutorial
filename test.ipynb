{
 "cells": [
  {
   "cell_type": "code",
   "execution_count": 1,
   "metadata": {},
   "outputs": [],
   "source": [
    "import torch \n",
    "import torch.nn as nn"
   ]
  },
  {
   "cell_type": "code",
   "execution_count": 147,
   "metadata": {},
   "outputs": [],
   "source": [
    "rnn = nn.RNN(\n",
    "    input_size=2,\n",
    "    hidden_size=3,\n",
    "    num_layers=2,\n",
    "    bidirectional=True,\n",
    "    batch_first=True\n",
    ")"
   ]
  },
  {
   "cell_type": "code",
   "execution_count": 148,
   "metadata": {},
   "outputs": [
    {
     "data": {
      "text/plain": [
       "<torch._C.Generator at 0x7f7596f16b50>"
      ]
     },
     "execution_count": 148,
     "metadata": {},
     "output_type": "execute_result"
    }
   ],
   "source": [
    "torch.manual_seed(1)"
   ]
  },
  {
   "cell_type": "code",
   "execution_count": 149,
   "metadata": {},
   "outputs": [
    {
     "data": {
      "text/plain": [
       "tensor([[[0.7576, 0.2793],\n",
       "         [0.4031, 0.7347],\n",
       "         [0.0293, 0.7999]],\n",
       "\n",
       "        [[0.3971, 0.7544],\n",
       "         [0.5695, 0.4388],\n",
       "         [0.6387, 0.5247]]])"
      ]
     },
     "execution_count": 149,
     "metadata": {},
     "output_type": "execute_result"
    }
   ],
   "source": [
    "x = torch.rand((2, 3, 2))\n",
    "x"
   ]
  },
  {
   "cell_type": "code",
   "execution_count": 150,
   "metadata": {},
   "outputs": [
    {
     "data": {
      "text/plain": [
       "(torch.Size([2, 3, 6]), torch.Size([4, 2, 3]))"
      ]
     },
     "execution_count": 150,
     "metadata": {},
     "output_type": "execute_result"
    }
   ],
   "source": [
    "a, b = rnn(x)\n",
    "a.size(), b.size()"
   ]
  },
  {
   "cell_type": "code",
   "execution_count": 151,
   "metadata": {},
   "outputs": [
    {
     "data": {
      "text/plain": [
       "(tensor([[[ 0.2705, -0.4817, -0.4942,  0.5036,  0.2571,  0.2665],\n",
       "          [ 0.0718, -0.6734, -0.5874,  0.3893,  0.2746,  0.1342],\n",
       "          [ 0.1746, -0.8002, -0.3946,  0.3671,  0.0259, -0.2233]],\n",
       " \n",
       "         [[ 0.3389, -0.5673, -0.3850,  0.3298,  0.2505,  0.2656],\n",
       "          [ 0.0843, -0.6184, -0.6814,  0.4094,  0.2714,  0.2084],\n",
       "          [ 0.1766, -0.8106, -0.3962,  0.5012,  0.0362, -0.3131]]],\n",
       "        grad_fn=<TransposeBackward1>),\n",
       " tensor([[[ 0.3011, -0.3470,  0.7114],\n",
       "          [ 0.4772, -0.3723,  0.7374]],\n",
       " \n",
       "         [[-0.4692,  0.2368, -0.7825],\n",
       "          [-0.5901,  0.5227, -0.6913]],\n",
       " \n",
       "         [[ 0.1746, -0.8002, -0.3946],\n",
       "          [ 0.1766, -0.8106, -0.3962]],\n",
       " \n",
       "         [[ 0.5036,  0.2571,  0.2665],\n",
       "          [ 0.3298,  0.2505,  0.2656]]], grad_fn=<StackBackward>))"
      ]
     },
     "execution_count": 151,
     "metadata": {},
     "output_type": "execute_result"
    }
   ],
   "source": [
    "a, b"
   ]
  },
  {
   "cell_type": "code",
   "execution_count": 96,
   "metadata": {},
   "outputs": [
    {
     "data": {
      "text/plain": [
       "tensor([[[ 0.0261,  0.2325,  0.4399, -0.4072,  0.3703],\n",
       "         [ 0.0763,  0.0160, -0.7184,  0.0224,  0.7377]]],\n",
       "       grad_fn=<TransposeBackward0>)"
      ]
     },
     "execution_count": 96,
     "metadata": {},
     "output_type": "execute_result"
    }
   ],
   "source": [
    "b.transpose(0, 1)"
   ]
  },
  {
   "cell_type": "code",
   "execution_count": 79,
   "metadata": {},
   "outputs": [
    {
     "data": {
      "text/plain": [
       "True"
      ]
     },
     "execution_count": 79,
     "metadata": {},
     "output_type": "execute_result"
    }
   ],
   "source": [
    "b.is_contiguous()"
   ]
  },
  {
   "cell_type": "code",
   "execution_count": null,
   "metadata": {},
   "outputs": [],
   "source": []
  }
 ],
 "metadata": {
  "kernelspec": {
   "display_name": "Python 3.8.5 ('base')",
   "language": "python",
   "name": "python3"
  },
  "language_info": {
   "codemirror_mode": {
    "name": "ipython",
    "version": 3
   },
   "file_extension": ".py",
   "mimetype": "text/x-python",
   "name": "python",
   "nbconvert_exporter": "python",
   "pygments_lexer": "ipython3",
   "version": "3.8.5"
  },
  "orig_nbformat": 4,
  "vscode": {
   "interpreter": {
    "hash": "d4d1e4263499bec80672ea0156c357c1ee493ec2b1c70f0acce89fc37c4a6abe"
   }
  }
 },
 "nbformat": 4,
 "nbformat_minor": 2
}
